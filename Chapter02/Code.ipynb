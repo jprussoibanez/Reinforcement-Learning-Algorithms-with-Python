{
  "nbformat": 4,
  "nbformat_minor": 0,
  "metadata": {
    "kernelspec": {
      "display_name": "Python 3",
      "language": "python",
      "name": "python3"
    },
    "language_info": {
      "codemirror_mode": {
        "name": "ipython",
        "version": 3
      },
      "file_extension": ".py",
      "mimetype": "text/x-python",
      "name": "python",
      "nbconvert_exporter": "python",
      "pygments_lexer": "ipython3",
      "version": "3.5.2"
    },
    "colab": {
      "name": "Code.ipynb",
      "provenance": [],
      "include_colab_link": true
    }
  },
  "cells": [
    {
      "cell_type": "markdown",
      "metadata": {
        "id": "view-in-github",
        "colab_type": "text"
      },
      "source": [
        "<a href=\"https://colab.research.google.com/github/jprussoibanez/Reinforcement-Learning-Algorithms-with-Python/blob/master/Chapter02/Code.ipynb\" target=\"_parent\"><img src=\"https://colab.research.google.com/assets/colab-badge.svg\" alt=\"Open In Colab\"/></a>"
      ]
    },
    {
      "cell_type": "markdown",
      "metadata": {
        "id": "4NgF_1S0ZmEK",
        "colab_type": "text"
      },
      "source": [
        "#### TensorFlow installation"
      ]
    },
    {
      "cell_type": "markdown",
      "metadata": {
        "id": "1lPxVkIeZmEM",
        "colab_type": "text"
      },
      "source": [
        "`pip3 install tensorflow`\n",
        "\n",
        "or\n",
        "\n",
        "`pip3 install tensorflow-gpu`"
      ]
    },
    {
      "cell_type": "markdown",
      "metadata": {
        "id": "HTN0bm9BZmEN",
        "colab_type": "text"
      },
      "source": [
        "#### OpenAI Gym installation"
      ]
    },
    {
      "cell_type": "markdown",
      "metadata": {
        "id": "0npNZv3JZmEO",
        "colab_type": "text"
      },
      "source": [
        "On OSX: \n",
        "\n",
        "`brew install cmake boost boost-python sdl2 swig wget`\n",
        " \n",
        "On Ubuntu 16.04:\n",
        "\n",
        "`apt-get install -y python-pyglet python3-opengl zlib1g-dev libjpeg-dev patchelf cmake swig libboost-all-dev libsdl2-dev libosmesa6-dev xvfb ffmpeg`\n",
        "\n",
        "On Ubuntu 18.04\n",
        "\n",
        "`sudo apt install -y python3-dev zlib1g-dev libjpeg-dev cmake swig python-pyglet python3-opengl libboost-all-dev libsdl2-dev libosmesa6-dev patchelf ffmpeg xvfb `\n",
        "\n",
        "Then:\n",
        "\n",
        "```\n",
        "git clone https://github.com/openai/gym.git \n",
        "\n",
        "cd gym\n",
        "\n",
        "pip install -e '.[all]'\n",
        "```\n",
        "\n",
        "PyBox2D:\n",
        "\n",
        "```\n",
        "git clone https://github.com/pybox2d/pybox2d\n",
        "cd pybox2d\n",
        "pip3 install -e .\n",
        "```\n"
      ]
    },
    {
      "cell_type": "markdown",
      "metadata": {
        "id": "3S5KDYHLZmEP",
        "colab_type": "text"
      },
      "source": [
        "#### Duckietown installation\n",
        "\n",
        "```\n",
        "git clone https://github.com/duckietown/gym-duckietown.git\n",
        "cd gym-duckietown\n",
        "pip3 install -e .\n",
        "```"
      ]
    },
    {
      "cell_type": "markdown",
      "metadata": {
        "id": "Wi34solUZmEQ",
        "colab_type": "text"
      },
      "source": [
        "#### Roboschool installation\n",
        "\n",
        "```\n",
        "git clone https://github.com/openai/roboschool\n",
        "cd roboschool\n",
        "ROBOSCHOOL_PATH=`pwd`\n",
        "git clone https://github.com/olegklimov/bullet3 -b roboschool_self_collision\n",
        "mkdir bullet3/build\n",
        "cd    bullet3/build\n",
        "cmake -DBUILD_SHARED_LIBS=ON -DUSE_DOUBLE_PRECISION=1 -DCMAKE_INSTALL_PREFIX:PATH=$ROBOSCHOOL_PATH/roboschool/cpp-household/bullet_local_install -DBUILD_CPU_DEMOS=OFF -DBUILD_BULLET2_DEMOS=OFF -DBUILD_EXTRAS=OFF  -DBUILD_UNIT_TESTS=OFF -DBUILD_CLSOCKET=OFF -DBUILD_ENET=OFF -DBUILD_OPENGL3_DEMOS=OFF ..\n",
        "\n",
        "make -j4\n",
        "make install\n",
        "cd ../..\n",
        "pip3 install -e $ROBOSCHOOL_PATH\n",
        "```"
      ]
    },
    {
      "cell_type": "markdown",
      "metadata": {
        "id": "lqCf0D7MZmER",
        "colab_type": "text"
      },
      "source": [
        "## RL cycle"
      ]
    },
    {
      "cell_type": "code",
      "metadata": {
        "id": "MkAxHgisZqlR",
        "colab_type": "code",
        "colab": {}
      },
      "source": [
        "!apt-get install -y xvfb python-opengl > /dev/null 2>&1"
      ],
      "execution_count": 0,
      "outputs": []
    },
    {
      "cell_type": "code",
      "metadata": {
        "id": "FfLbu8MGZs34",
        "colab_type": "code",
        "colab": {}
      },
      "source": [
        "!pip install gym pyvirtualdisplay > /dev/null 2>&1"
      ],
      "execution_count": 0,
      "outputs": []
    },
    {
      "cell_type": "code",
      "metadata": {
        "id": "RQMIAL7pZwRq",
        "colab_type": "code",
        "colab": {}
      },
      "source": [
        "import gym\n",
        "import numpy as np\n",
        "import matplotlib.pyplot as plt\n",
        "from IPython import display as ipythondisplay"
      ],
      "execution_count": 0,
      "outputs": []
    },
    {
      "cell_type": "code",
      "metadata": {
        "id": "L95V7ypVZydN",
        "colab_type": "code",
        "colab": {
          "base_uri": "https://localhost:8080/",
          "height": 71
        },
        "outputId": "e509bf03-f89d-4c19-807d-0899b33cecde"
      },
      "source": [
        "from pyvirtualdisplay import Display\n",
        "display = Display(visible=0, size=(400, 300))\n",
        "display.start()"
      ],
      "execution_count": 4,
      "outputs": [
        {
          "output_type": "stream",
          "text": [
            "xdpyinfo was not found, X start can not be checked! Please install xdpyinfo!\n"
          ],
          "name": "stderr"
        },
        {
          "output_type": "execute_result",
          "data": {
            "text/plain": [
              "<Display cmd_param=['Xvfb', '-br', '-nolisten', 'tcp', '-screen', '0', '400x300x24', ':1001'] cmd=['Xvfb', '-br', '-nolisten', 'tcp', '-screen', '0', '400x300x24', ':1001'] oserror=None return_code=None stdout=\"None\" stderr=\"None\" timeout_happened=False>"
            ]
          },
          "metadata": {
            "tags": []
          },
          "execution_count": 4
        }
      ]
    },
    {
      "cell_type": "code",
      "metadata": {
        "id": "x_ZRi4KAZmER",
        "colab_type": "code",
        "colab": {
          "base_uri": "https://localhost:8080/",
          "height": 269
        },
        "outputId": "e54d149d-c49e-4438-c54c-da80842c074d"
      },
      "source": [
        "import gym\n",
        "\n",
        "# create the environment \n",
        "env = gym.make(\"CartPole-v1\")\n",
        "# reset the environment before starting\n",
        "env.reset()\n",
        "prev_screen = env.render(mode='rgb_array')\n",
        "plt.imshow(prev_screen)\n",
        "\n",
        "# loop 10 times\n",
        "for i in range(10):\n",
        "  action = env.action_space.sample()\n",
        "  obs, reward, done, info = env.step(action)\n",
        "  screen = env.render(mode='rgb_array')\n",
        "  \n",
        "  plt.imshow(screen)\n",
        "  ipythondisplay.clear_output(wait=True)\n",
        "  ipythondisplay.display(plt.gcf())\n",
        "\n",
        "  if done:\n",
        "    break\n",
        "    \n",
        "ipythondisplay.clear_output(wait=True)\n",
        "env.close()"
      ],
      "execution_count": 5,
      "outputs": [
        {
          "output_type": "display_data",
          "data": {
            "image/png": "[encoded data removed]",
            "text/plain": [
              "<Figure size 432x288 with 1 Axes>"
            ]
          },
          "metadata": {
            "tags": []
          }
        }
      ]
    },
    {
      "cell_type": "code",
      "metadata": {
        "id": "37QSO7hpZmEV",
        "colab_type": "code",
        "colab": {
          "base_uri": "https://localhost:8080/",
          "height": 187
        },
        "outputId": "12e76ca8-6687-4c30-9955-bf69afaaf984"
      },
      "source": [
        "import gym\n",
        "\n",
        "# create and initialize the environment\n",
        "env = gym.make(\"CartPole-v1\")\n",
        "env.reset()\n",
        "\n",
        "# play 10 games\n",
        "for i in range(10):\n",
        "    # initialize the variables\n",
        "    done = False\n",
        "    game_rew = 0\n",
        "\n",
        "    while not done:\n",
        "        # choose a random action\n",
        "        action = env.action_space.sample()\n",
        "        # take a step in the environment\n",
        "        new_obs, rew, done, info = env.step(action)\n",
        "        game_rew += rew\n",
        "    \n",
        "        # when is done, print the cumulative reward of the game and reset the environment\n",
        "        if done:\n",
        "            print('Episode %d finished, reward:%d' % (i, game_rew))\n",
        "            env.reset()"
      ],
      "execution_count": 6,
      "outputs": [
        {
          "output_type": "stream",
          "text": [
            "Episode 0 finished, reward:12\n",
            "Episode 1 finished, reward:18\n",
            "Episode 2 finished, reward:11\n",
            "Episode 3 finished, reward:18\n",
            "Episode 4 finished, reward:39\n",
            "Episode 5 finished, reward:55\n",
            "Episode 6 finished, reward:17\n",
            "Episode 7 finished, reward:15\n",
            "Episode 8 finished, reward:22\n",
            "Episode 9 finished, reward:16\n"
          ],
          "name": "stdout"
        }
      ]
    },
    {
      "cell_type": "code",
      "metadata": {
        "id": "0knKaTiZZmEX",
        "colab_type": "code",
        "colab": {
          "base_uri": "https://localhost:8080/",
          "height": 34
        },
        "outputId": "b38d310e-eccf-4413-94dd-906008d14721"
      },
      "source": [
        "import gym\n",
        "\n",
        "env = gym.make('CartPole-v1')\n",
        "print(env.observation_space)"
      ],
      "execution_count": 7,
      "outputs": [
        {
          "output_type": "stream",
          "text": [
            "Box(4,)\n"
          ],
          "name": "stdout"
        }
      ]
    },
    {
      "cell_type": "code",
      "metadata": {
        "id": "3DyNtn5zZmEZ",
        "colab_type": "code",
        "colab": {
          "base_uri": "https://localhost:8080/",
          "height": 34
        },
        "outputId": "77e5bdaa-6a59-4941-b940-d3b45c66a932"
      },
      "source": [
        "print(env.action_space)"
      ],
      "execution_count": 8,
      "outputs": [
        {
          "output_type": "stream",
          "text": [
            "Discrete(2)\n"
          ],
          "name": "stdout"
        }
      ]
    },
    {
      "cell_type": "code",
      "metadata": {
        "id": "DzbvHjZYZmEb",
        "colab_type": "code",
        "colab": {
          "base_uri": "https://localhost:8080/",
          "height": 68
        },
        "outputId": "38414079-6e0e-40e6-bff0-82cc7e117409"
      },
      "source": [
        "print(env.action_space.sample())\n",
        "print(env.action_space.sample())\n",
        "print(env.action_space.sample())"
      ],
      "execution_count": 9,
      "outputs": [
        {
          "output_type": "stream",
          "text": [
            "0\n",
            "1\n",
            "0\n"
          ],
          "name": "stdout"
        }
      ]
    },
    {
      "cell_type": "code",
      "metadata": {
        "id": "RrfitA7eZmEd",
        "colab_type": "code",
        "colab": {},
        "outputId": "a7d0dbeb-252d-46b4-b4b8-822e1af3cdf0"
      },
      "source": [
        "print(env.observation_space.low)"
      ],
      "execution_count": 0,
      "outputs": [
        {
          "output_type": "stream",
          "text": [
            "[-4.8000002e+00 -3.4028235e+38 -4.1887903e-01 -3.4028235e+38]\n"
          ],
          "name": "stdout"
        }
      ]
    },
    {
      "cell_type": "code",
      "metadata": {
        "id": "8nFnibygZmEe",
        "colab_type": "code",
        "colab": {},
        "outputId": "f902491c-ed0f-40f1-efac-eb029e175649"
      },
      "source": [
        "print(env.observation_space.high)"
      ],
      "execution_count": 0,
      "outputs": [
        {
          "output_type": "stream",
          "text": [
            "[4.8000002e+00 3.4028235e+38 4.1887903e-01 3.4028235e+38]\n"
          ],
          "name": "stdout"
        }
      ]
    },
    {
      "cell_type": "markdown",
      "metadata": {
        "id": "T8ZT4OUfZmEg",
        "colab_type": "text"
      },
      "source": [
        "## TensorFlow"
      ]
    },
    {
      "cell_type": "code",
      "metadata": {
        "id": "IZhTHp2hZmEg",
        "colab_type": "code",
        "colab": {
          "base_uri": "https://localhost:8080/",
          "height": 97
        },
        "outputId": "7ef154ff-c003-4a33-a059-c7dc0b10c3a9"
      },
      "source": [
        "import tensorflow as tf\n",
        "\n",
        "# create two constants: a and b\n",
        "a = tf.constant(4)\n",
        "b = tf.constant(3)\n",
        "\n",
        "# perform a computation\n",
        "c = a + b\n",
        "print(c) # print the shape of c\n",
        "\n",
        "# create a session\n",
        "session = tf.Session()\n",
        "# run the session. It compute the sum\n",
        "res = session.run(c)\n",
        "print(res) # print the actual result"
      ],
      "execution_count": 10,
      "outputs": [
        {
          "output_type": "display_data",
          "data": {
            "text/html": [
              "<p style=\"color: red;\">\n",
              "The default version of TensorFlow in Colab will soon switch to TensorFlow 2.x.<br>\n",
              "We recommend you <a href=\"https://www.tensorflow.org/guide/migrate\" target=\"_blank\">upgrade</a> now \n",
              "or ensure your notebook will continue to use TensorFlow 1.x via the <code>%tensorflow_version 1.x</code> magic:\n",
              "<a href=\"https://colab.research.google.com/notebooks/tensorflow_version.ipynb\" target=\"_blank\">more info</a>.</p>\n"
            ],
            "text/plain": [
              "<IPython.core.display.HTML object>"
            ]
          },
          "metadata": {
            "tags": []
          }
        },
        {
          "output_type": "stream",
          "text": [
            "Tensor(\"add:0\", shape=(), dtype=int32)\n",
            "7\n"
          ],
          "name": "stdout"
        }
      ]
    },
    {
      "cell_type": "code",
      "metadata": {
        "id": "-bmtD6OjZmEi",
        "colab_type": "code",
        "colab": {}
      },
      "source": [
        "# reset the graph\n",
        "tf.reset_default_graph()"
      ],
      "execution_count": 0,
      "outputs": []
    },
    {
      "cell_type": "markdown",
      "metadata": {
        "id": "_un1_FUOZmEj",
        "colab_type": "text"
      },
      "source": [
        "### Tensor"
      ]
    },
    {
      "cell_type": "code",
      "metadata": {
        "id": "wt0vcOefZmEk",
        "colab_type": "code",
        "colab": {
          "base_uri": "https://localhost:8080/",
          "height": 34
        },
        "outputId": "bbc4592a-ed07-4af1-ef86-d0c5e11f483b"
      },
      "source": [
        "a = tf.constant(1)\n",
        "print(a.shape)"
      ],
      "execution_count": 12,
      "outputs": [
        {
          "output_type": "stream",
          "text": [
            "()\n"
          ],
          "name": "stdout"
        }
      ]
    },
    {
      "cell_type": "code",
      "metadata": {
        "id": "7-G8h5JsZmEl",
        "colab_type": "code",
        "colab": {
          "base_uri": "https://localhost:8080/",
          "height": 34
        },
        "outputId": "d3f0e4b9-c8ba-4076-e8e9-b8d3d850d406"
      },
      "source": [
        "# array of five elements\n",
        "b = tf.constant([1,2,3,4,5])\n",
        "print(b.shape)"
      ],
      "execution_count": 13,
      "outputs": [
        {
          "output_type": "stream",
          "text": [
            "(5,)\n"
          ],
          "name": "stdout"
        }
      ]
    },
    {
      "cell_type": "code",
      "metadata": {
        "id": "rr7GmCuYZmEn",
        "colab_type": "code",
        "colab": {
          "base_uri": "https://localhost:8080/",
          "height": 34
        },
        "outputId": "053ae3e9-7d1f-44d8-9acf-c5d362b749cf"
      },
      "source": [
        "#NB: a can be of any type of tensor\n",
        "a = tf.constant([1,2,3,4,5])\n",
        "first_three_elem = a[:3]\n",
        "fourth_elem = a[3]\n",
        "\n",
        "sess = tf.Session()\n",
        "print(sess.run(first_three_elem))"
      ],
      "execution_count": 14,
      "outputs": [
        {
          "output_type": "stream",
          "text": [
            "[1 2 3]\n"
          ],
          "name": "stdout"
        }
      ]
    },
    {
      "cell_type": "code",
      "metadata": {
        "id": "DSMPuj0hZmEp",
        "colab_type": "code",
        "colab": {
          "base_uri": "https://localhost:8080/",
          "height": 34
        },
        "outputId": "f732dfce-547a-4f77-d279-4d71262d9f2c"
      },
      "source": [
        "print(sess.run(fourth_elem))"
      ],
      "execution_count": 15,
      "outputs": [
        {
          "output_type": "stream",
          "text": [
            "4\n"
          ],
          "name": "stdout"
        }
      ]
    },
    {
      "cell_type": "markdown",
      "metadata": {
        "id": "FPxlK8O3ZmEq",
        "colab_type": "text"
      },
      "source": [
        "#### Constant"
      ]
    },
    {
      "cell_type": "code",
      "metadata": {
        "id": "alUAQFM5ZmEr",
        "colab_type": "code",
        "colab": {},
        "outputId": "da15a01f-8337-48d1-a63b-b7d872a1fcb1"
      },
      "source": [
        "a = tf.constant([1.0, 1.1, 2.1, 3.1], dtype=tf.float32, name='a_const')\n",
        "print(a)"
      ],
      "execution_count": 0,
      "outputs": [
        {
          "output_type": "stream",
          "text": [
            "Tensor(\"a_const:0\", shape=(4,), dtype=float32)\n"
          ],
          "name": "stdout"
        }
      ]
    },
    {
      "cell_type": "markdown",
      "metadata": {
        "id": "CZr2Sr06ZmEs",
        "colab_type": "text"
      },
      "source": [
        "#### Placeholder"
      ]
    },
    {
      "cell_type": "code",
      "metadata": {
        "id": "N7G8J0RPZmEt",
        "colab_type": "code",
        "colab": {
          "base_uri": "https://localhost:8080/",
          "height": 34
        },
        "outputId": "bf83d223-c19c-4c99-8fad-e5c258270207"
      },
      "source": [
        "a = tf.placeholder(shape=(1,3), dtype=tf.float32)\n",
        "b = tf.constant([[10,10,10]], dtype=tf.float32)\n",
        "\n",
        "c = a + b\n",
        "\n",
        "sess = tf.Session()\n",
        "res = sess.run(c, feed_dict={a:[[0.1,0.2,0.3]]})\n",
        "print(res)"
      ],
      "execution_count": 16,
      "outputs": [
        {
          "output_type": "stream",
          "text": [
            "[[10.1 10.2 10.3]]\n"
          ],
          "name": "stdout"
        }
      ]
    },
    {
      "cell_type": "code",
      "metadata": {
        "id": "xQdN3SLvZmEu",
        "colab_type": "code",
        "colab": {}
      },
      "source": [
        "tf.reset_default_graph()"
      ],
      "execution_count": 0,
      "outputs": []
    },
    {
      "cell_type": "code",
      "metadata": {
        "id": "7tkPIejpZmEw",
        "colab_type": "code",
        "colab": {
          "base_uri": "https://localhost:8080/",
          "height": 85
        },
        "outputId": "cff19f60-fa9d-4848-9192-aa3771e8551a"
      },
      "source": [
        "import numpy as np\n",
        "\n",
        "# NB: the fist dimension is 'None', meaning that it can be of any lenght\n",
        "a = tf.placeholder(shape=(None,3), dtype=tf.float32)\n",
        "b = tf.placeholder(shape=(None,3), dtype=tf.float32)\n",
        "\n",
        "c = a + b\n",
        "\n",
        "print(a)\n",
        "\n",
        "sess = tf.Session()\n",
        "print(sess.run(c, feed_dict={a:[[0.1,0.2,0.3]], b:[[10,10,10]]}))\n",
        "\n",
        "v_a = np.array([[1,2,3],[4,5,6]])\n",
        "v_b = np.array([[6,5,4],[3,2,1]])\n",
        "print(sess.run(c, feed_dict={a:v_a, b:v_b}))"
      ],
      "execution_count": 18,
      "outputs": [
        {
          "output_type": "stream",
          "text": [
            "Tensor(\"Placeholder:0\", shape=(?, 3), dtype=float32)\n",
            "[[10.1 10.2 10.3]]\n",
            "[[7. 7. 7.]\n",
            " [7. 7. 7.]]\n"
          ],
          "name": "stdout"
        }
      ]
    },
    {
      "cell_type": "code",
      "metadata": {
        "id": "Xk-uwOe8ZmEz",
        "colab_type": "code",
        "colab": {
          "base_uri": "https://localhost:8080/",
          "height": 34
        },
        "outputId": "4dfc864c-7cf9-4536-9bff-3efa1225935b"
      },
      "source": [
        "sess = tf.Session()\n",
        "print(sess.run(c, feed_dict={a:[[0.1,0.2,0.3]], b:[[10,10,10]]}))"
      ],
      "execution_count": 19,
      "outputs": [
        {
          "output_type": "stream",
          "text": [
            "[[10.1 10.2 10.3]]\n"
          ],
          "name": "stdout"
        }
      ]
    },
    {
      "cell_type": "markdown",
      "metadata": {
        "id": "Azq3eIVEZmE1",
        "colab_type": "text"
      },
      "source": [
        "#### Variable"
      ]
    },
    {
      "cell_type": "code",
      "metadata": {
        "id": "yl2vPP8lZmE1",
        "colab_type": "code",
        "colab": {
          "base_uri": "https://localhost:8080/",
          "height": 51
        },
        "outputId": "9ab13b47-33cd-47b1-aba6-4bd5aa0067b9"
      },
      "source": [
        "tf.reset_default_graph()\n",
        "\n",
        "# variable initialized using the glorot uniform initializer\n",
        "var = tf.get_variable(\"first_variable\", shape=[1,3], dtype=tf.float32, initializer=tf.glorot_uniform_initializer)\n",
        "\n",
        "# variable initialized with constant values\n",
        "init_val = np.array([4,5])\n",
        "var2 = tf.get_variable(\"second_variable\", shape=[1,2], dtype=tf.int32, initializer=tf.constant_initializer(init_val))\n",
        "\n",
        "# create the session\n",
        "sess = tf.Session()\n",
        "# initialize all the variables\n",
        "sess.run(tf.global_variables_initializer())\n",
        "\n",
        "print(sess.run(var))\n",
        "\n",
        "print(sess.run(var2))"
      ],
      "execution_count": 20,
      "outputs": [
        {
          "output_type": "stream",
          "text": [
            "[[0.33523285 1.022731   0.1103096 ]]\n",
            "[[4 5]]\n"
          ],
          "name": "stdout"
        }
      ]
    },
    {
      "cell_type": "code",
      "metadata": {
        "id": "O_SafQlPZmE3",
        "colab_type": "code",
        "colab": {}
      },
      "source": [
        "# not trainable variable\n",
        "var2 = tf.get_variable(\"variable\", shape=[1,2], trainable=False, dtype=tf.int32)"
      ],
      "execution_count": 0,
      "outputs": []
    },
    {
      "cell_type": "code",
      "metadata": {
        "id": "60Fl5nfDZmE4",
        "colab_type": "code",
        "colab": {
          "base_uri": "https://localhost:8080/",
          "height": 54
        },
        "outputId": "b21b96c7-adea-4a89-94e2-797f463f255b"
      },
      "source": [
        "print(tf.global_variables())"
      ],
      "execution_count": 22,
      "outputs": [
        {
          "output_type": "stream",
          "text": [
            "[<tf.Variable 'first_variable:0' shape=(1, 3) dtype=float32_ref>, <tf.Variable 'second_variable:0' shape=(1, 2) dtype=int32_ref>, <tf.Variable 'variable:0' shape=(1, 2) dtype=int32_ref>]\n"
          ],
          "name": "stdout"
        }
      ]
    },
    {
      "cell_type": "markdown",
      "metadata": {
        "id": "Xwlba1ToZmE5",
        "colab_type": "text"
      },
      "source": [
        "#### Graph"
      ]
    },
    {
      "cell_type": "code",
      "metadata": {
        "id": "zk8y2voNZmE6",
        "colab_type": "code",
        "colab": {
          "base_uri": "https://localhost:8080/",
          "height": 34
        },
        "outputId": "6b2f8b14-b147-4cde-dbb6-f0eb68ec7428"
      },
      "source": [
        "tf.reset_default_graph()\n",
        "\n",
        "const1 = tf.constant(3.0, name='constant1')\n",
        "\n",
        "var = tf.get_variable(\"variable1\", shape=[1,2], dtype=tf.float32)\n",
        "var2 = tf.get_variable(\"variable2\", shape=[1,2], trainable=False, dtype=tf.float32)\n",
        "\n",
        "op1 = const1 * var\n",
        "op2 = op1 + var2\n",
        "op3 = tf.reduce_mean(op2)\n",
        "\n",
        "sess = tf.Session()\n",
        "sess.run(tf.global_variables_initializer())\n",
        "sess.run(op3)"
      ],
      "execution_count": 23,
      "outputs": [
        {
          "output_type": "execute_result",
          "data": {
            "text/plain": [
              "0.9439568"
            ]
          },
          "metadata": {
            "tags": []
          },
          "execution_count": 23
        }
      ]
    },
    {
      "cell_type": "markdown",
      "metadata": {
        "id": "JSxa39RIZmE7",
        "colab_type": "text"
      },
      "source": [
        "### Simple Linear Regression Example\n"
      ]
    },
    {
      "cell_type": "code",
      "metadata": {
        "id": "txotTR08ZmE8",
        "colab_type": "code",
        "colab": {
          "base_uri": "https://localhost:8080/",
          "height": 207
        },
        "outputId": "dcf97032-8c05-40cb-d512-60bbbf9d3d50"
      },
      "source": [
        "tf.reset_default_graph()\n",
        "\n",
        "np.random.seed(10)\n",
        "tf.set_random_seed(10)\n",
        "\n",
        "W, b = 0.5, 1.4\n",
        "# create a dataset of 100 examples\n",
        "X = np.linspace(0,100, num=100)\n",
        "# add random noise to the y labels\n",
        "y = np.random.normal(loc=W * X + b, scale=2.0, size=len(X))\n",
        "\n",
        "# create the placeholders\n",
        "x_ph = tf.placeholder(shape=[None,], dtype=tf.float32)\n",
        "y_ph = tf.placeholder(shape=[None,], dtype=tf.float32)\n",
        "\n",
        "# create the variables.\n",
        "v_weight = tf.get_variable(\"weight\", shape=[1], dtype=tf.float32)\n",
        "v_bias = tf.get_variable(\"bias\", shape=[1], dtype=tf.float32)\n",
        "\n",
        "# linear computation\n",
        "out = v_weight * x_ph + v_bias\n",
        "\n",
        "# compute the Mean Squared Error\n",
        "loss = tf.reduce_mean((out - y_ph)**2)\n",
        "\n",
        "# optimizer\n",
        "opt = tf.train.AdamOptimizer(0.4).minimize(loss)\n",
        "\n",
        "# create the session\n",
        "session = tf.Session()\n",
        "session.run(tf.global_variables_initializer())\n",
        "\n",
        "# loop to train the parameters\n",
        "for ep in range(210):\n",
        "    # run the optimizer and get the loss\n",
        "    train_loss, _ = session.run([loss, opt], feed_dict={x_ph:X, y_ph:y})\n",
        " \n",
        "    # print epoch number and loss\n",
        "    if ep % 40 == 0:\n",
        "        print('Epoch: %3d, MSE: %.4f, W: %.3f, b: %.3f' % (ep, train_loss, session.run(v_weight), session.run(v_bias)))\n",
        "        \n",
        "print('Final weight: %.3f, bias: %.3f' % (session.run(v_weight), session.run(v_bias)))"
      ],
      "execution_count": 24,
      "outputs": [
        {
          "output_type": "stream",
          "text": [
            "WARNING:tensorflow:From /usr/local/lib/python3.6/dist-packages/tensorflow_core/python/ops/math_grad.py:1375: where (from tensorflow.python.ops.array_ops) is deprecated and will be removed in a future version.\n",
            "Instructions for updating:\n",
            "Use tf.where in 2.0, which has the same broadcast rule as np.where\n",
            "Epoch:   0, MSE: 4617.4390, W: 1.295, b: -0.407\n",
            "Epoch:  40, MSE: 5.3334, W: 0.496, b: -0.727\n",
            "Epoch:  80, MSE: 4.5894, W: 0.529, b: -0.012\n",
            "Epoch: 120, MSE: 4.1029, W: 0.512, b: 0.608\n",
            "Epoch: 160, MSE: 3.8552, W: 0.506, b: 1.092\n",
            "Epoch: 200, MSE: 3.7597, W: 0.501, b: 1.418\n",
            "Final weight: 0.500, bias: 1.473\n"
          ],
          "name": "stdout"
        }
      ]
    },
    {
      "cell_type": "markdown",
      "metadata": {
        "id": "1kBqnpIzZmE9",
        "colab_type": "text"
      },
      "source": [
        "#### .. with TensorBoard"
      ]
    },
    {
      "cell_type": "code",
      "metadata": {
        "id": "jETFoYJ-ZmE9",
        "colab_type": "code",
        "colab": {
          "base_uri": "https://localhost:8080/",
          "height": 136
        },
        "outputId": "b6a2e664-32cb-40da-8830-2185983c1d49"
      },
      "source": [
        "from datetime import datetime\n",
        "\n",
        "tf.reset_default_graph()\n",
        "\n",
        "np.random.seed(10)\n",
        "tf.set_random_seed(10)\n",
        "\n",
        "W, b = 0.5, 1.4\n",
        "# create a dataset of 100 examples\n",
        "X = np.linspace(0,100, num=100)\n",
        "# add random noise to the y labels\n",
        "y = np.random.normal(loc=W * X + b, scale=2.0, size=len(X))\n",
        "\n",
        "# create the placeholders\n",
        "x_ph = tf.placeholder(shape=[None,], dtype=tf.float32)\n",
        "y_ph = tf.placeholder(shape=[None,], dtype=tf.float32)\n",
        "\n",
        "# create the variables.\n",
        "v_weight = tf.get_variable(\"weight\", shape=[1], dtype=tf.float32)\n",
        "v_bias = tf.get_variable(\"bias\", shape=[1], dtype=tf.float32)\n",
        "\n",
        "# linear computation\n",
        "out = v_weight * x_ph + v_bias\n",
        "\n",
        "# compute the Mean Squared Error\n",
        "loss = tf.reduce_mean((out - y_ph)**2)\n",
        "\n",
        "# optimizer\n",
        "opt = tf.train.AdamOptimizer(0.4).minimize(loss)\n",
        "\n",
        "\n",
        "tf.summary.scalar('MSEloss', loss)\n",
        "tf.summary.histogram('model_weight', v_weight)\n",
        "tf.summary.histogram('model_bias', v_bias)\n",
        "all_summary = tf.summary.merge_all()\n",
        "\n",
        "now = datetime.now()\n",
        "clock_time = \"{}_{}.{}.{}\".format(now.day, now.hour, now.minute, now.second)\n",
        "file_writer = tf.summary.FileWriter('log_dir/'+clock_time, tf.get_default_graph())\n",
        "\n",
        "\n",
        "# create the session\n",
        "session = tf.Session()\n",
        "session.run(tf.global_variables_initializer())\n",
        "\n",
        "# loop to train the parameters\n",
        "for ep in range(210):\n",
        "    # run the optimizer and get the loss\n",
        "    train_loss, _, train_summary = session.run([loss, opt, all_summary], feed_dict={x_ph:X, y_ph:y})\n",
        "    file_writer.add_summary(train_summary, ep)\n",
        " \n",
        "    # print epoch number and loss\n",
        "    if ep % 40 == 0:\n",
        "        print('Epoch: %3d, MSE: %.4f, W: %.3f, b: %.3f' % (ep, train_loss, session.run(v_weight), session.run(v_bias)))\n",
        "        \n",
        "print('Final weight: %.3f, bias: %.3f' % (session.run(v_weight), session.run(v_bias)))\n",
        "file_writer.close()"
      ],
      "execution_count": 25,
      "outputs": [
        {
          "output_type": "stream",
          "text": [
            "Epoch:   0, MSE: 4617.4390, W: 1.295, b: -0.407\n",
            "Epoch:  40, MSE: 5.3334, W: 0.496, b: -0.727\n",
            "Epoch:  80, MSE: 4.5894, W: 0.529, b: -0.012\n",
            "Epoch: 120, MSE: 4.1029, W: 0.512, b: 0.608\n",
            "Epoch: 160, MSE: 3.8552, W: 0.506, b: 1.092\n",
            "Epoch: 200, MSE: 3.7597, W: 0.501, b: 1.418\n",
            "Final weight: 0.500, bias: 1.473\n"
          ],
          "name": "stdout"
        }
      ]
    }
  ]
}